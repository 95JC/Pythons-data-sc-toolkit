{
 "cells": [
  {
   "cell_type": "markdown",
   "id": "f3702c44",
   "metadata": {},
   "source": [
    "Usando el set de datos users.csv que puedes descargar del grupo de Telegram, o siguiendo este link:\n",
    " https://gist.github.com/eduardogpg/9a0e348884bf8b5e60db013a0429a59d usa Numpy o Pandas para obtener la siguiente información\n",
    " \n",
    "(1): Mostrar en consola el nombre de todos los usuario que no poseen un correo electrónico\n",
    "\n",
    "(2): Listar el nombre y correo del usuario más jovén de Canadá\n",
    "\n",
    "(3): Listar el nombre y correo de los usuarios más jóvenes de Germany y Canadá\n",
    "\n",
    "(4): Listar los 5 países con mayor cantidad de usuariosx\n",
    "\n",
    "(5): Obtener el país con más usuariosx\n",
    "\n",
    "(6): Obtener el país con más usuarios cuya edad sea mayor a 50x\n",
    "\n",
    "(7): Obtener la suma total de todos los usuarios de Canadá Y Germany \n",
    "\n",
    "(8): Mostrar en consola la cantidad de países en el dataset\n",
    "\n",
    "(9): Obtener el promedio de edad de cada uno de los países\n",
    "\n",
    "(10): Mostrar en consola el país con más hombres.\n"
   ]
  },
  {
   "cell_type": "code",
   "execution_count": 19,
   "id": "005f0872",
   "metadata": {},
   "outputs": [],
   "source": [
    "import numpy as np\n",
    "import pandas as pd"
   ]
  },
  {
   "cell_type": "code",
   "execution_count": 88,
   "id": "1190a12a",
   "metadata": {},
   "outputs": [
    {
     "data": {
      "text/html": [
       "<div>\n",
       "<style scoped>\n",
       "    .dataframe tbody tr th:only-of-type {\n",
       "        vertical-align: middle;\n",
       "    }\n",
       "\n",
       "    .dataframe tbody tr th {\n",
       "        vertical-align: top;\n",
       "    }\n",
       "\n",
       "    .dataframe thead th {\n",
       "        text-align: right;\n",
       "    }\n",
       "</style>\n",
       "<table border=\"1\" class=\"dataframe\">\n",
       "  <thead>\n",
       "    <tr style=\"text-align: right;\">\n",
       "      <th></th>\n",
       "      <th>Unnamed: 0</th>\n",
       "      <th>nombre</th>\n",
       "      <th>edad</th>\n",
       "      <th>genero</th>\n",
       "      <th>pais</th>\n",
       "      <th>email</th>\n",
       "    </tr>\n",
       "  </thead>\n",
       "  <tbody>\n",
       "    <tr>\n",
       "      <th>0</th>\n",
       "      <td>0</td>\n",
       "      <td>Mr Jerome Thomas</td>\n",
       "      <td>73</td>\n",
       "      <td>male</td>\n",
       "      <td>United States</td>\n",
       "      <td>jerome.thomas@example.com</td>\n",
       "    </tr>\n",
       "    <tr>\n",
       "      <th>1</th>\n",
       "      <td>1</td>\n",
       "      <td>Mr Gary Berry</td>\n",
       "      <td>70</td>\n",
       "      <td>male</td>\n",
       "      <td>United Kingdom</td>\n",
       "      <td>gary.berry@example.com</td>\n",
       "    </tr>\n",
       "    <tr>\n",
       "      <th>2</th>\n",
       "      <td>2</td>\n",
       "      <td>Mr Noham Dubois</td>\n",
       "      <td>40</td>\n",
       "      <td>male</td>\n",
       "      <td>France</td>\n",
       "      <td>noham.dubois@example.com</td>\n",
       "    </tr>\n",
       "    <tr>\n",
       "      <th>3</th>\n",
       "      <td>3</td>\n",
       "      <td>Mrs Naja Johansen</td>\n",
       "      <td>63</td>\n",
       "      <td>female</td>\n",
       "      <td>Denmark</td>\n",
       "      <td>naja.johansen@example.com</td>\n",
       "    </tr>\n",
       "    <tr>\n",
       "      <th>4</th>\n",
       "      <td>4</td>\n",
       "      <td>Mr Damien Marchand</td>\n",
       "      <td>61</td>\n",
       "      <td>male</td>\n",
       "      <td>France</td>\n",
       "      <td>damien.marchand@example.com</td>\n",
       "    </tr>\n",
       "    <tr>\n",
       "      <th>...</th>\n",
       "      <td>...</td>\n",
       "      <td>...</td>\n",
       "      <td>...</td>\n",
       "      <td>...</td>\n",
       "      <td>...</td>\n",
       "      <td>...</td>\n",
       "    </tr>\n",
       "    <tr>\n",
       "      <th>195</th>\n",
       "      <td>195</td>\n",
       "      <td>Mr Raul Bravo</td>\n",
       "      <td>46</td>\n",
       "      <td>male</td>\n",
       "      <td>Spain</td>\n",
       "      <td>raul.bravo@example.com</td>\n",
       "    </tr>\n",
       "    <tr>\n",
       "      <th>196</th>\n",
       "      <td>196</td>\n",
       "      <td>Miss Maeva Fortin</td>\n",
       "      <td>40</td>\n",
       "      <td>female</td>\n",
       "      <td>Canada</td>\n",
       "      <td>maeva.fortin@example.com</td>\n",
       "    </tr>\n",
       "    <tr>\n",
       "      <th>197</th>\n",
       "      <td>197</td>\n",
       "      <td>Mr Gabriel Berger</td>\n",
       "      <td>40</td>\n",
       "      <td>male</td>\n",
       "      <td>France</td>\n",
       "      <td>gabriel.berger@example.com</td>\n",
       "    </tr>\n",
       "    <tr>\n",
       "      <th>198</th>\n",
       "      <td>198</td>\n",
       "      <td>Mrs Ülkü Tanrıkulu</td>\n",
       "      <td>37</td>\n",
       "      <td>female</td>\n",
       "      <td>Turkey</td>\n",
       "      <td>ulku.tanrikulu@example.com</td>\n",
       "    </tr>\n",
       "    <tr>\n",
       "      <th>199</th>\n",
       "      <td>199</td>\n",
       "      <td>Mr Raff Valkema</td>\n",
       "      <td>60</td>\n",
       "      <td>male</td>\n",
       "      <td>Netherlands</td>\n",
       "      <td>raff.valkema@example.com</td>\n",
       "    </tr>\n",
       "  </tbody>\n",
       "</table>\n",
       "<p>200 rows × 6 columns</p>\n",
       "</div>"
      ],
      "text/plain": [
       "     Unnamed: 0              nombre  edad  genero            pais  \\\n",
       "0             0    Mr Jerome Thomas    73    male   United States   \n",
       "1             1       Mr Gary Berry    70    male  United Kingdom   \n",
       "2             2     Mr Noham Dubois    40    male          France   \n",
       "3             3   Mrs Naja Johansen    63  female         Denmark   \n",
       "4             4  Mr Damien Marchand    61    male          France   \n",
       "..          ...                 ...   ...     ...             ...   \n",
       "195         195       Mr Raul Bravo    46    male           Spain   \n",
       "196         196   Miss Maeva Fortin    40  female          Canada   \n",
       "197         197   Mr Gabriel Berger    40    male          France   \n",
       "198         198  Mrs Ülkü Tanrıkulu    37  female          Turkey   \n",
       "199         199     Mr Raff Valkema    60    male     Netherlands   \n",
       "\n",
       "                           email  \n",
       "0      jerome.thomas@example.com  \n",
       "1         gary.berry@example.com  \n",
       "2       noham.dubois@example.com  \n",
       "3      naja.johansen@example.com  \n",
       "4    damien.marchand@example.com  \n",
       "..                           ...  \n",
       "195       raul.bravo@example.com  \n",
       "196     maeva.fortin@example.com  \n",
       "197   gabriel.berger@example.com  \n",
       "198   ulku.tanrikulu@example.com  \n",
       "199     raff.valkema@example.com  \n",
       "\n",
       "[200 rows x 6 columns]"
      ]
     },
     "execution_count": 88,
     "metadata": {},
     "output_type": "execute_result"
    }
   ],
   "source": [
    "data = pd.read_csv('https://raw.githubusercontent.com/codigofacilito/pandas-python/master/users.csv')\n",
    "data"
   ]
  },
  {
   "cell_type": "markdown",
   "id": "caa1e66f",
   "metadata": {},
   "source": [
    "(1): Mostrar en consola el nombre de todos los usuario que no poseen un correo electrónico"
   ]
  },
  {
   "cell_type": "code",
   "execution_count": 54,
   "id": "c2fa6bd1",
   "metadata": {},
   "outputs": [
    {
     "data": {
      "text/html": [
       "<div>\n",
       "<style scoped>\n",
       "    .dataframe tbody tr th:only-of-type {\n",
       "        vertical-align: middle;\n",
       "    }\n",
       "\n",
       "    .dataframe tbody tr th {\n",
       "        vertical-align: top;\n",
       "    }\n",
       "\n",
       "    .dataframe thead th {\n",
       "        text-align: right;\n",
       "    }\n",
       "</style>\n",
       "<table border=\"1\" class=\"dataframe\">\n",
       "  <thead>\n",
       "    <tr style=\"text-align: right;\">\n",
       "      <th></th>\n",
       "      <th>nombre</th>\n",
       "    </tr>\n",
       "  </thead>\n",
       "  <tbody>\n",
       "  </tbody>\n",
       "</table>\n",
       "</div>"
      ],
      "text/plain": [
       "Empty DataFrame\n",
       "Columns: [nombre]\n",
       "Index: []"
      ]
     },
     "execution_count": 54,
     "metadata": {},
     "output_type": "execute_result"
    }
   ],
   "source": [
    "sin_correo = data[data['email'].isnull()] \n",
    "sin_correo[['nombre']]"
   ]
  },
  {
   "cell_type": "code",
   "execution_count": 57,
   "id": "7795f225",
   "metadata": {},
   "outputs": [
    {
     "data": {
      "text/html": [
       "<div>\n",
       "<style scoped>\n",
       "    .dataframe tbody tr th:only-of-type {\n",
       "        vertical-align: middle;\n",
       "    }\n",
       "\n",
       "    .dataframe tbody tr th {\n",
       "        vertical-align: top;\n",
       "    }\n",
       "\n",
       "    .dataframe thead th {\n",
       "        text-align: right;\n",
       "    }\n",
       "</style>\n",
       "<table border=\"1\" class=\"dataframe\">\n",
       "  <thead>\n",
       "    <tr style=\"text-align: right;\">\n",
       "      <th></th>\n",
       "      <th>Unnamed: 0</th>\n",
       "      <th>nombre</th>\n",
       "      <th>edad</th>\n",
       "      <th>genero</th>\n",
       "      <th>pais</th>\n",
       "      <th>email</th>\n",
       "    </tr>\n",
       "  </thead>\n",
       "  <tbody>\n",
       "  </tbody>\n",
       "</table>\n",
       "</div>"
      ],
      "text/plain": [
       "Empty DataFrame\n",
       "Columns: [Unnamed: 0, nombre, edad, genero, pais, email]\n",
       "Index: []"
      ]
     },
     "execution_count": 57,
     "metadata": {},
     "output_type": "execute_result"
    }
   ],
   "source": [
    "data[pd.isna(data['email'])]"
   ]
  },
  {
   "cell_type": "markdown",
   "id": "def48d38",
   "metadata": {},
   "source": [
    "(2): Listar el nombre y correo del usuario más jovén de Canadá"
   ]
  },
  {
   "cell_type": "code",
   "execution_count": 50,
   "id": "cc6b59dd",
   "metadata": {},
   "outputs": [
    {
     "data": {
      "text/html": [
       "<div>\n",
       "<style scoped>\n",
       "    .dataframe tbody tr th:only-of-type {\n",
       "        vertical-align: middle;\n",
       "    }\n",
       "\n",
       "    .dataframe tbody tr th {\n",
       "        vertical-align: top;\n",
       "    }\n",
       "\n",
       "    .dataframe thead th {\n",
       "        text-align: right;\n",
       "    }\n",
       "</style>\n",
       "<table border=\"1\" class=\"dataframe\">\n",
       "  <thead>\n",
       "    <tr style=\"text-align: right;\">\n",
       "      <th></th>\n",
       "      <th>nombre</th>\n",
       "      <th>email</th>\n",
       "    </tr>\n",
       "  </thead>\n",
       "  <tbody>\n",
       "    <tr>\n",
       "      <th>184</th>\n",
       "      <td>Mr Philip Bélanger</td>\n",
       "      <td>philip.belanger@example.com</td>\n",
       "    </tr>\n",
       "  </tbody>\n",
       "</table>\n",
       "</div>"
      ],
      "text/plain": [
       "                 nombre                        email\n",
       "184  Mr Philip Bélanger  philip.belanger@example.com"
      ]
     },
     "execution_count": 50,
     "metadata": {},
     "output_type": "execute_result"
    }
   ],
   "source": [
    "canada = data[data['pais']=='Canada'].sort_values('edad').head(1)\n",
    "canada[['nombre', 'email']]"
   ]
  },
  {
   "cell_type": "markdown",
   "id": "cc81dd74",
   "metadata": {},
   "source": [
    "(3): Listar el nombre y correo de los usuarios más jóvenes de Germany y Canadá"
   ]
  },
  {
   "cell_type": "code",
   "execution_count": 53,
   "id": "61c139c7",
   "metadata": {},
   "outputs": [
    {
     "data": {
      "text/html": [
       "<div>\n",
       "<style scoped>\n",
       "    .dataframe tbody tr th:only-of-type {\n",
       "        vertical-align: middle;\n",
       "    }\n",
       "\n",
       "    .dataframe tbody tr th {\n",
       "        vertical-align: top;\n",
       "    }\n",
       "\n",
       "    .dataframe thead th {\n",
       "        text-align: right;\n",
       "    }\n",
       "</style>\n",
       "<table border=\"1\" class=\"dataframe\">\n",
       "  <thead>\n",
       "    <tr style=\"text-align: right;\">\n",
       "      <th></th>\n",
       "      <th>nombre</th>\n",
       "      <th>email</th>\n",
       "    </tr>\n",
       "  </thead>\n",
       "  <tbody>\n",
       "    <tr>\n",
       "      <th>88</th>\n",
       "      <td>Mrs Hilda Epp</td>\n",
       "      <td>hilda.epp@example.com</td>\n",
       "    </tr>\n",
       "  </tbody>\n",
       "</table>\n",
       "</div>"
      ],
      "text/plain": [
       "           nombre                  email\n",
       "88  Mrs Hilda Epp  hilda.epp@example.com"
      ]
     },
     "execution_count": 53,
     "metadata": {},
     "output_type": "execute_result"
    }
   ],
   "source": [
    "alemania = data[data['pais']=='Germany'].sort_values('edad').head(1)\n",
    "alemania[['nombre', 'email']]"
   ]
  },
  {
   "cell_type": "markdown",
   "id": "90354e42",
   "metadata": {},
   "source": [
    "(4): Listar los 5 países con mayor cantidad de usuariosx"
   ]
  },
  {
   "cell_type": "code",
   "execution_count": 64,
   "id": "3d22b05c",
   "metadata": {},
   "outputs": [
    {
     "data": {
      "text/plain": [
       "pais\n",
       "Ireland           16\n",
       "Denmark           16\n",
       "United Kingdom    15\n",
       "New Zealand       14\n",
       "Norway            14\n",
       "dtype: int64"
      ]
     },
     "execution_count": 64,
     "metadata": {},
     "output_type": "execute_result"
    }
   ],
   "source": [
    "data.value_counts(data['pais']).head(5)"
   ]
  },
  {
   "cell_type": "code",
   "execution_count": null,
   "id": "20b063b7",
   "metadata": {},
   "outputs": [],
   "source": []
  },
  {
   "cell_type": "markdown",
   "id": "76118f94",
   "metadata": {},
   "source": [
    "(5): Obtener el país con más usuarios\n"
   ]
  },
  {
   "cell_type": "code",
   "execution_count": 67,
   "id": "211ec619",
   "metadata": {},
   "outputs": [
    {
     "data": {
      "text/plain": [
       "Ireland    16\n",
       "Denmark    16\n",
       "Name: pais, dtype: int64"
      ]
     },
     "execution_count": 67,
     "metadata": {},
     "output_type": "execute_result"
    }
   ],
   "source": [
    "result = data['pais'].value_counts()[data['pais'].value_counts()==data['pais'].value_counts().max()]\n",
    "result"
   ]
  },
  {
   "cell_type": "markdown",
   "id": "618fd2ef",
   "metadata": {},
   "source": [
    "(6): Obtener el país con más usuarios cuya edad sea mayor a 50"
   ]
  },
  {
   "cell_type": "code",
   "execution_count": 69,
   "id": "d883471f",
   "metadata": {},
   "outputs": [
    {
     "data": {
      "text/plain": [
       "Iran    10\n",
       "Name: pais, dtype: int64"
      ]
     },
     "execution_count": 69,
     "metadata": {},
     "output_type": "execute_result"
    }
   ],
   "source": [
    "data1 = data[data['edad']>50]\n",
    "v = data1['pais'].value_counts()[data1['pais'].value_counts()==data1['pais'].value_counts().max()]\n",
    "v"
   ]
  },
  {
   "cell_type": "markdown",
   "id": "22ceb286",
   "metadata": {},
   "source": [
    "(7): Obtener la suma total de todos los usuarios de Canadá Y Germany ]"
   ]
  },
  {
   "cell_type": "code",
   "execution_count": 72,
   "id": "73324453",
   "metadata": {},
   "outputs": [
    {
     "data": {
      "text/plain": [
       "21"
      ]
     },
     "execution_count": 72,
     "metadata": {},
     "output_type": "execute_result"
    }
   ],
   "source": [
    "data[(data['pais']=='Canada')|(data['pais']=='Germany')].shape[0]"
   ]
  },
  {
   "cell_type": "markdown",
   "id": "bf2a5257",
   "metadata": {},
   "source": [
    "(8): Mostrar en consola la cantidad de países en el dataset\n"
   ]
  },
  {
   "cell_type": "code",
   "execution_count": 80,
   "id": "940cb8a9",
   "metadata": {},
   "outputs": [
    {
     "data": {
      "text/plain": [
       "17"
      ]
     },
     "execution_count": 80,
     "metadata": {},
     "output_type": "execute_result"
    }
   ],
   "source": [
    "data['pais'].nunique()"
   ]
  },
  {
   "cell_type": "markdown",
   "id": "a9c1b5a1",
   "metadata": {},
   "source": [
    "(9): Obtener el promedio de edad de cada uno de los países\n"
   ]
  },
  {
   "cell_type": "code",
   "execution_count": 90,
   "id": "e1bf0423",
   "metadata": {},
   "outputs": [
    {
     "data": {
      "text/plain": [
       "pais\n",
       "Australia         51.166667\n",
       "Brazil            50.666667\n",
       "Canada            38.583333\n",
       "Denmark           48.812500\n",
       "Finland           42.200000\n",
       "France            48.900000\n",
       "Germany           39.555556\n",
       "Iran              54.230769\n",
       "Ireland           42.000000\n",
       "Netherlands       51.833333\n",
       "New Zealand       49.071429\n",
       "Norway            46.071429\n",
       "Spain             56.615385\n",
       "Switzerland       44.000000\n",
       "Turkey            47.000000\n",
       "United Kingdom    51.466667\n",
       "United States     53.500000\n",
       "Name: edad, dtype: float64"
      ]
     },
     "execution_count": 90,
     "metadata": {},
     "output_type": "execute_result"
    }
   ],
   "source": [
    "data.groupby('pais')['edad'].mean()"
   ]
  },
  {
   "cell_type": "markdown",
   "id": "e563692d",
   "metadata": {},
   "source": [
    "(10): Mostrar en consola el país con más hombres.\n"
   ]
  },
  {
   "cell_type": "code",
   "execution_count": 98,
   "id": "5179c9dc",
   "metadata": {},
   "outputs": [
    {
     "data": {
      "text/plain": [
       "pais\n",
       "Ireland    10\n",
       "Name: pais, dtype: int64"
      ]
     },
     "execution_count": 98,
     "metadata": {},
     "output_type": "execute_result"
    }
   ],
   "source": [
    "data[data['genero']=='male'].groupby('pais')['pais'].count().sort_values(ascending=False).head(1)"
   ]
  },
  {
   "cell_type": "markdown",
   "id": "316f5859",
   "metadata": {},
   "source": [
    "(11): Obtener todos los paises con mayor cantidad de usuarios"
   ]
  },
  {
   "cell_type": "code",
   "execution_count": 104,
   "id": "31cfa87c",
   "metadata": {},
   "outputs": [
    {
     "data": {
      "text/plain": [
       "Ireland           16\n",
       "Denmark           16\n",
       "United Kingdom    15\n",
       "New Zealand       14\n",
       "Norway            14\n",
       "Name: pais, dtype: int64"
      ]
     },
     "execution_count": 104,
     "metadata": {},
     "output_type": "execute_result"
    }
   ],
   "source": [
    "data['pais'].value_counts().head()"
   ]
  },
  {
   "cell_type": "code",
   "execution_count": null,
   "id": "24b2fde7",
   "metadata": {},
   "outputs": [],
   "source": []
  }
 ],
 "metadata": {
  "kernelspec": {
   "display_name": "Python 3",
   "language": "python",
   "name": "python3"
  },
  "language_info": {
   "codemirror_mode": {
    "name": "ipython",
    "version": 3
   },
   "file_extension": ".py",
   "mimetype": "text/x-python",
   "name": "python",
   "nbconvert_exporter": "python",
   "pygments_lexer": "ipython3",
   "version": "3.8.8"
  }
 },
 "nbformat": 4,
 "nbformat_minor": 5
}
